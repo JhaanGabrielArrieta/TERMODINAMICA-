import pandas as pd

# Datos de temperatura y resistencia
temperaturas = [27.0, 27.5, 28.0, 28.5, 29.1, 29.5, 30.0, 31.2, 32.4, 33.8, 34.9, 36.0, 
                36.9, 37.6, 38.5, 39.3, 40.6, 41.8, 44.3, 44.8, 45.6, 47.0, 48.7, 49.3, 
                50.1, 50.5, 51.6, 52.0, 52.8, 53.2, 54.0, 54.7, 55.3, 56.1, 57.3, 58.3, 
                58.8, 59.8, 60.5, 61.4, 61.9, 62.4]

resistencias = [94.80, 93.60, 92.90, 91.80, 90.60, 90.00, 89.10, 86.60, 84.60, 81.00, 
                78.30, 75.50, 73.60, 72.90, 68.30, 66.20, 63.10, 59.50, 51.64, 50.68, 
                48.41, 45.09, 40.42, 38.83, 37.33, 35.93, 33.35, 32.24, 31.17, 30.17, 
                28.70, 27.30, 26.61, 25.82, 23.77, 22.40, 21.69, 20.71, 19.60, 18.61, 
                18.20, 17.58]

# Crear un DataFrame
df = pd.DataFrame({
    'Temperatura (°C)': temperaturas,
    'Resistencia (Ω)': resistencias
})

# Guardar como archivo Excel
df.to_excel('temperatura_resistencia.xlsx', index=False)

print("Archivo Excel guardado como 'temperatura_resistencia.xlsx'.")
