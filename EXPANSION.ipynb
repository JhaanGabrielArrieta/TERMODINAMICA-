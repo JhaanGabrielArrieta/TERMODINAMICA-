{
  "introduccion": {
    "descripcion": "En procesos termodinámicos existe una relación que da evidencia de las propiedades macroscópicas de los materiales. Esta relación indica lo siguiente: \"A medida que la temperatura aumenta, su volumen también aumenta\".",
    "fenomeno": "Este fenómeno es mayormente conocido como EXPANSION TERMICA.",
    "explicacion": "De manera general, al tener un aumento en la velocidad promedio de las partículas de un sistema (temperatura) debido a una fuente de energía en forma de calor, se afirma que, bajo sistemas estacionarios, la energía será transferida de un caso inicial a uno final. Por conservación de la energía, el sistema final presenta cambios en su estructura física.",
    "relacion_con_leyes": "Lo anterior surge a causa de la existencia de la primera ley de la termodinámica.",
    "tipos_de_transferencia_de_calor": [
      "Radiación",
      "Convección",
      "Conducción"
    ],
    "imagen_1": "En la imagen 1 se observan 3 tipos de transferencia de calor."
  }
}
