{
 "cells": [
  {
   "cell_type": "markdown",
   "metadata": {},
   "source": [
    "# Introducción\n",
    "\n",
    "En procesos termodinámicos existe una relación que da evidencia de las propiedades macroscópicas de los materiales. Esta indica lo siguiente:\n",
    "\n",
    "> “A medida que la temperatura aumenta, su volumen también aumenta”\n",
    "\n",
    "Este fenómeno es mayormente conocido como **EXPANSIÓN TÉRMICA**. De manera general, al tener un aumento en la velocidad promedio de las partículas de un sistema (temperatura) debido a una fuente de energía en forma de calor, se afirma que, bajo sistemas estacionarios, la energía será transferida de un caso inicial a uno final y, por conservación de la energía, el sistema final presenta cambios en su estructura física. Lo anterior surge a causa de la existencia de la **primera ley de la termodinámica**.\n",
    "\n",
    "En la imagen 1 se observan 3 tipos de transferencia de calor:\n",
    "\n",
    "1. Radiación\n",
    "2. Convección\n",
    "3. Conducción\n",
    "\n",
    "**Imagen 1**. Información general de ejemplo sobre la expansión térmica.\n",
    "\n",
    "Al transferir el calor dado al agua por convección, hace que esta comience a hervir. Por tanto, un proceso donde se transfiere calor da como resultado el cambio físico de un material. En el caso del agua, comienza su cambio de estado y este cambio conlleva un aumento en el volumen (estado gaseoso). El caso de un sólido no está exento de este aumento en sus propiedades físicas.\n",
    "\n",
    "Para nuestra experiencia, se cuentan con 3 metales distintos en forma cilíndrica, donde se hacen los estudios de expansión térmica.\n",
    "\n",
    "El modelo matemático que rige el fenómeno de **EXPANSIÓN TÉRMICA LINEAL** es:\n",
    "\n",
    "$$\n",
    "\\Delta L = \\alpha L_0 \\Delta T\n",
    "$$\n",
    "- **∆L**: Cambio en la longitud del sólido (en metros, m).\n",
    "- **α**: Coeficiente de expansión térmica lineal (en °C⁻¹ o K⁻¹).\n",
    "- **L₀**: Longitud inicial del sólido (en metros, m).\n",
    "- **∆T**: Cambio de temperatura (en grados Celsius, °C, o Kelvin, K).\n",
    "\n",
    "Este fenómeno ocurre debido al aumento de la energía cinética de los átomos o moléculas que componen el sólido, lo que genera una mayor vibración y, en consecuencia, un aumento en la separación promedio de ellos.\n",
    "\n",
    "**Consideración final**: La cavidad en un trozo de material se expande de la misma manera que si la cavidad estuviera llena de material."
   ]
  },
  {
   "cell_type": "markdown",
   "metadata": {},
   "source": [
    "# Procedimiento\n",
    "\n",
    "En la **imagen 2** se encuentra la estructura del montaje experimental. Como materiales utilizados para la experiencia tenemos primeramente un generador de gas, el cual tiene la función de calentar el agua para posteriormente ser llevada por un pequeño tubo de plástico al elemento metálico. En un extremo del tubo metálico se encuentra el indicador de medición de expansión. \n",
    "\n",
    "Continuando, se conectan en el medio del componente metálico los cables asociados al multímetro y otro al medidor de temperatura. La longitud inicial de los materiales es 73.4 cm.\n",
    "\n",
    "**Imagen 2**. Montaje general de la experiencia de expansión térmica.\n",
    "\n",
    "## PRIMERA PARTE\n",
    "\n",
    "En esta sección se busca corroborar la relación entre el voltaje, temperatura y resistencia. Se conecta la barra y, con el uso de un multímetro, se miden los valores de la resistencia en función de la temperatura. \n",
    "\n",
    "La metodología de trabajo implementada para obtener los datos consiste en realizar un video, donde para un voltaje definido, se tendrá un límite de temperatura. A partir de este punto, se observa la expansión térmica. La grabación ayuda para discriminar la primera variación en los valores de la resistencia y luego, de una operación matemática simple, obtener los valores de la expansión térmica en forma de desplazamiento en la rueda graduada en uno de los extremos (ver **Imagen 3**).\n",
    "\n",
    "**Imagen 3**. Indicación ilustrativa sobre la toma de datos.\n",
    "\n",
    "A pesar de que los valores se tomaron a simple inspección del video, se tomó como valor patrón para considerar la cuenta de datos la resistencia. Por tanto, lo siguiente resume nuestra actividad experimental en esta sección:\n",
    "\n",
    "> **“Si existe variación en la resistencia (Ω), por consiguiente, es necesario que existan cambios en la temperatura (°C) y la elongación (Δx).”**"
   ]
  },
  {
   "cell_type": "markdown",
   "metadata": {},
   "source": [
    "# Análisis y Resultados\n",
    "\n",
    "El objetivo de este análisis es mostrar la representación ordenada de los datos y también su forma ilustrativa.\n",
    "\n",
    "## PRIMERA PARTE\n",
    "\n",
    "Se presentan los datos para los 3 materiales en las tablas 1, 2 y 3. Se usa la ecuación (1) como modelo de ajuste, y en la tabla 4 se muestran las pendientes de estos gráficos. Con esto, se determina el coeficiente de expansión térmica.\n",
    "\n",
    "### Cálculos y gráficos de análisis\n",
    "\n",
    "En esta parte, vamos a mostrar los datos y realizar el análisis utilizando gráficos. A continuación, vamos a cargar los datos y graficar la relación entre temperatura y resistencia para los 3 materiales."
   ]
  },
  {


